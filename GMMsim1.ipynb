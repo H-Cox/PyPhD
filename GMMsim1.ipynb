{
 "cells": [
  {
   "cell_type": "code",
   "execution_count": 3,
   "metadata": {},
   "outputs": [],
   "source": [
    "import sklearn.mixture as mix\n",
    "import numpy as np\n",
    "import matplotlib.pyplot as plt\n",
    "import pandas as pd\n",
    "def importData(filename):\n",
    "\n",
    "\tdata = np.genfromtxt(filename,delimiter = ',')\n",
    "\n",
    "\treturn data[:,np.newaxis]"
   ]
  },
  {
   "cell_type": "code",
   "execution_count": 101,
   "metadata": {},
   "outputs": [],
   "source": [
    "filename = '/Users/Henry/OneDrive/PhD-Folder/GMM data/8mM.csv'\n",
    "\n",
    "data = importData(filename)\n",
    "\n",
    "data = np.log(data)\n",
    "\n",
    "maxGaussians = 20\n",
    "\n",
    "xtest = np.linspace(np.amin(data)-1,np.amax(data)+1,1000)\n",
    "xtest = xtest[:,np.newaxis]\n",
    "\n",
    "# 1000 rows and max gaussians columns\n",
    "ytest = np.zeros((xtest.shape[0],maxGaussians))\n",
    "\n",
    "means = []\n",
    "sigs = []\n",
    "w = []\n",
    "\n",
    "for g in range(maxGaussians):\n",
    "\n",
    "\tGMM = mix.GaussianMixture(n_components = (g+1))\n",
    "\n",
    "\tGMM = GMM.fit(data)\n",
    "\tmeans.append(GMM.means_)\n",
    "\tsigs.append(np.power(GMM.covariances_,0.5))\n",
    "\tw.append(GMM.weights_)\n",
    "\n",
    "\tytest[:,g] = np.exp(GMM.score_samples(xtest))"
   ]
  },
  {
   "cell_type": "code",
   "execution_count": 114,
   "metadata": {},
   "outputs": [
    {
     "data": {
      "image/png": "[encoded data removed]",
      "text/plain": [
       "<Figure size 432x288 with 1 Axes>"
      ]
     },
     "metadata": {},
     "output_type": "display_data"
    }
   ],
   "source": [
    "i = 3\n",
    "counts, bins, ignored = plt.hist(data,30,density=True)\n",
    "plt.plot(xtest,ytest[:,i])\n",
    "plt.show\n",
    "plt.savefig('/Users/Henry/OneDrive/PhD-Folder/GMM data/8mM_fig.png',bbox_inches='tight')"
   ]
  },
  {
   "cell_type": "code",
   "execution_count": 107,
   "metadata": {},
   "outputs": [],
   "source": [
    "means2 = np.array(means[i]).flatten()\n",
    "sigs2 = np.array(sigs[i]).flatten()\n",
    "w2 = np.array(w[i]).flatten()\n"
   ]
  },
  {
   "cell_type": "code",
   "execution_count": 108,
   "metadata": {},
   "outputs": [],
   "source": [
    "\n",
    "sdata = np.transpose([means2,sigs2,w2])\n",
    "\n",
    "c = counts.flatten()\n",
    "b = bins[:-1].flatten()\n",
    "b = np.add(b,(b[1]-b[0])/2)\n",
    "hdata = np.transpose([b,c])\n",
    "\n",
    "c = xtest.flatten()\n",
    "b = ytest[:,i]\n",
    "d = b.flatten()\n",
    "\n",
    "fdata =np.transpose([c,b])\n",
    "\n",
    "\n"
   ]
  },
  {
   "cell_type": "code",
   "execution_count": 109,
   "metadata": {},
   "outputs": [],
   "source": [
    "np.savetxt('/Users/Henry/OneDrive/PhD-Folder/GMM data/8mM_fit.csv',fdata,delimiter=',')\n",
    "np.savetxt('/Users/Henry/OneDrive/PhD-Folder/GMM data/8mM_param.csv',sdata,delimiter=',')\n",
    "np.savetxt('/Users/Henry/OneDrive/PhD-Folder/GMM data/8mM_hist.csv',hdata,delimiter=',')"
   ]
  },
  {
   "cell_type": "code",
   "execution_count": null,
   "metadata": {},
   "outputs": [],
   "source": []
  }
 ],
 "metadata": {
  "kernelspec": {
   "display_name": "Python 3",
   "language": "python",
   "name": "python3"
  },
  "language_info": {
   "codemirror_mode": {
    "name": "ipython",
    "version": 3
   },
   "file_extension": ".py",
   "mimetype": "text/x-python",
   "name": "python",
   "nbconvert_exporter": "python",
   "pygments_lexer": "ipython3",
   "version": "3.6.4"
  }
 },
 "nbformat": 4,
 "nbformat_minor": 2
}
