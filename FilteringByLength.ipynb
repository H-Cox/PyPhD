{
 "cells": [
  {
   "cell_type": "code",
   "execution_count": 3,
   "metadata": {},
   "outputs": [],
   "source": [
    "import numpy as np\n",
    "import gaussianMixtures as gM"
   ]
  },
  {
   "cell_type": "markdown",
   "metadata": {},
   "source": [
    "#### SET UP\n",
    "\n",
    "Length distributions are from 2 to 50 microns approximately\n",
    "\n",
    "Need to open the length and bending energy data and then bin the bending energies according to the fibril lengths.\n",
    "\n",
    "Then calculate the gaussian mixture model for each set of bending energies.\n",
    "\n",
    "Then repeat the whole thing with various amounts of bins.\n",
    "\n",
    "Bins ideally logarithmically spaced."
   ]
  },
  {
   "cell_type": "code",
   "execution_count": 5,
   "metadata": {},
   "outputs": [],
   "source": [
    "def importData(filename):\n",
    "\n",
    "\tdata = np.genfromtxt(filename+'.csv',delimiter = ',')\n",
    "\n",
    "\treturn data[:,np.newaxis]"
   ]
  },
  {
   "cell_type": "code",
   "execution_count": 7,
   "metadata": {},
   "outputs": [
    {
     "name": "stdout",
     "output_type": "stream",
     "text": [
      "(2606, 1)\n",
      "(2606, 1)\n"
     ]
    }
   ],
   "source": [
    "filepaths = '/Users/Henry/OneDrive/PhD-Folder/GMM data/'\n",
    "\n",
    "sample = 'Sim2'\n",
    "\n",
    "lengthData = importData(filepaths+'len'+sample)\n",
    "bendData = importData(filepaths+sample)\n",
    "\n",
    "print(lengthData.shape)\n",
    "print(bendData.shape)"
   ]
  },
  {
   "cell_type": "markdown",
   "metadata": {},
   "source": [
    "#### Filter the distributions\n",
    "\n",
    "Now make a function that can use some limits on a set of data to filter another set of data"
   ]
  },
  {
   "cell_type": "code",
   "execution_count": 8,
   "metadata": {},
   "outputs": [],
   "source": [
    "a = [1,2,3,4,1,2,3,4]\n",
    "b = list('abcdefgh')"
   ]
  },
  {
   "cell_type": "code",
   "execution_count": 15,
   "metadata": {},
   "outputs": [
    {
     "name": "stdout",
     "output_type": "stream",
     "text": [
      "['c', 'g']\n",
      "['c', 'g']\n"
     ]
    }
   ],
   "source": [
    "def filterSecond(minVal,maxVal,valArray,filterArray):\n",
    "    \n",
    "    return list(item for ind,item in enumerate(filterArray) if valArray[ind]>minVal and valArray[ind]<maxVal)\n",
    "\n",
    "t = list(c for x,c in enumerate(b) if a[x]>2 and a[x]<4)  \n",
    "\n",
    "v = filterSecond(2,4,a,b)\n",
    "\n",
    "print(t)\n",
    "print(v)"
   ]
  },
  {
   "cell_type": "markdown",
   "metadata": {},
   "source": [
    "That seems to work nicely. It selects the values of b when a == 3.\n",
    "\n"
   ]
  },
  {
   "cell_type": "code",
   "execution_count": 16,
   "metadata": {},
   "outputs": [
    {
     "name": "stdout",
     "output_type": "stream",
     "text": [
      "['b', 'c', 'f', 'g']\n"
     ]
    }
   ],
   "source": [
    "print(filterSecond(1,4,a,b))"
   ]
  },
  {
   "cell_type": "markdown",
   "metadata": {},
   "source": [
    "Double checking...\n",
    "\n",
    "#### Deciding the splits\n",
    "\n",
    "Now make a function to decide the min and max values.\n",
    "\n",
    "We will stick with the lowest minimum being 2 and the maximum max being 50 (units of microns).\n",
    "We also want it to be logarithmically spaced."
   ]
  },
  {
   "cell_type": "code",
   "execution_count": 22,
   "metadata": {},
   "outputs": [],
   "source": [
    "def minMaxList(numberofBins):\n",
    "    minVal = np.log(2)\n",
    "    maxVal = np.log(50)\n",
    "    logList = np.linspace(minVal,maxVal,numberofBins+1)\n",
    "    return np.exp(logList)"
   ]
  },
  {
   "cell_type": "code",
   "execution_count": 25,
   "metadata": {},
   "outputs": [
    {
     "name": "stdout",
     "output_type": "stream",
     "text": [
      "[ 2.          2.75945932  3.80730788  5.25305561  7.24779664 10.\n",
      " 13.79729661 19.03653939 26.26527804 36.23898318 50.        ]\n",
      "[ 2. 10. 50.]\n",
      "[ 2. 50.]\n"
     ]
    }
   ],
   "source": [
    "print(minMaxList(10))\n",
    "print(minMaxList(2))\n",
    "print(minMaxList(1))"
   ]
  },
  {
   "cell_type": "markdown",
   "metadata": {},
   "source": [
    "#### Doing the splits\n",
    "\n",
    "The splits takes years of practice...\n",
    "\n",
    "Now we will write a loop to generate a list of lists, where each sub list has the energies that correspond to it."
   ]
  },
  {
   "cell_type": "code",
   "execution_count": 29,
   "metadata": {},
   "outputs": [
    {
     "name": "stdout",
     "output_type": "stream",
     "text": [
      "[ 2. 50.]\n",
      "[ 2. 10. 50.]\n",
      "[ 2.          5.84803548 17.09975947 50.        ]\n"
     ]
    }
   ],
   "source": [
    "binnedEnergy = []\n",
    "\n",
    "maxBins = 3\n",
    "\n",
    "for nb in range(maxBins):\n",
    "    \n",
    "    thisList = minMaxList(nb+1)\n",
    "    print(thisList)\n",
    "    thisbin = []\n",
    "    for item in range(len(thisList)-1):\n",
    "        thisbin.append(filterSecond(thisList[item],thisList[item+1],lengthData,bendData))\n",
    "        \n",
    "    binnedEnergy.append(thisbin)\n",
    "\n",
    "\n",
    "        "
   ]
  },
  {
   "cell_type": "code",
   "execution_count": 38,
   "metadata": {},
   "outputs": [
    {
     "data": {
      "text/plain": [
       "3"
      ]
     },
     "execution_count": 38,
     "metadata": {},
     "output_type": "execute_result"
    }
   ],
   "source": [
    "len(binnedEnergy[2])\n"
   ]
  },
  {
   "cell_type": "code",
   "execution_count": null,
   "metadata": {},
   "outputs": [],
   "source": []
  }
 ],
 "metadata": {
  "kernelspec": {
   "display_name": "Python 3",
   "language": "python",
   "name": "python3"
  },
  "language_info": {
   "codemirror_mode": {
    "name": "ipython",
    "version": 3
   },
   "file_extension": ".py",
   "mimetype": "text/x-python",
   "name": "python",
   "nbconvert_exporter": "python",
   "pygments_lexer": "ipython3",
   "version": "3.6.4"
  }
 },
 "nbformat": 4,
 "nbformat_minor": 2
}
